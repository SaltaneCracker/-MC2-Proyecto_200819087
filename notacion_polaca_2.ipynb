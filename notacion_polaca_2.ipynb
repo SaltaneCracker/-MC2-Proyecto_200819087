{
 "cells": [
  {
   "cell_type": "code",
   "execution_count": 3,
   "metadata": {},
   "outputs": [
    {
     "name": "stdout",
     "output_type": "stream",
     "text": [
      "Resultado del ejemplo 1: 3 + 4 * 2 \n",
      "Resultado del ejemplo 2: 5 + 1 + 2 * 4 - 3 \n",
      "Resultado del ejemplo 3: 7 - 5 * 3 "
     ]
    }
   ],
   "source": [
    "# Definición de la clase Nodo para representar nodos del árbol\n",
    "class Nodo:\n",
    "    def __init__(self, valor):\n",
    "        self.valor = valor\n",
    "        self.izquierda = None\n",
    "        self.derecha = None\n",
    "\n",
    "# Función para construir un árbol a partir de una expresión en notación polaca inversa\n",
    "def construir_arbol_notacion_polaca(expresion):\n",
    "    pila = []  # Una pila para ayudar a construir el árbol\n",
    "    tokens = expresion.split()  # Dividir la expresión en tokens\n",
    "    \n",
    "    for token in tokens:\n",
    "        if token.isnumeric():  # Si el token es un número, creemos un nodo y lo apilamos\n",
    "            pila.append(Nodo(int(token)))\n",
    "        else:\n",
    "            # Si el token es un operador, creamos un nodo y lo conectamos a los dos nodos superiores en la pila\n",
    "            nodo = Nodo(token)\n",
    "            nodo.derecha = pila.pop()\n",
    "            nodo.izquierda = pila.pop()\n",
    "            pila.append(nodo)\n",
    "    \n",
    "    return pila[0]  # El nodo en la parte superior de la pila es la raíz del árbol\n",
    "\n",
    "# Función para imprimir el árbol en orden (izquierda, raíz, derecha)\n",
    "def imprimir_arbol(arbol):\n",
    "    if arbol:\n",
    "        imprimir_arbol(arbol.izquierda)\n",
    "        print(arbol.valor, end=\" \")  # Imprimimos el valor del nodo\n",
    "        imprimir_arbol(arbol.derecha)\n",
    "\n",
    "# Ejemplo 1: Notación Polaca Inversa (3 4 + 2 *)\n",
    "expresion_polaca1 = \"3 4 + 2 *\"\n",
    "arbol1 = construir_arbol_notacion_polaca(expresion_polaca1)\n",
    "print(\"Resultado del ejemplo 1:\", end=\" \")\n",
    "imprimir_arbol(arbol1)\n",
    "\n",
    "# Ejemplo 2: Notación Polaca (5 1 2 + 4 * + 3 -)\n",
    "expresion_polaca2 = \"5 1 2 + 4 * + 3 -\"\n",
    "arbol2 = construir_arbol_notacion_polaca(expresion_polaca2)\n",
    "print(\"\\nResultado del ejemplo 2:\", end=\" \")\n",
    "imprimir_arbol(arbol2)\n",
    "\n",
    "# Ejemplo 3: Notación Polaca (7 5 3 * -)\n",
    "expresion_polaca3 = \"7 5 3 * -\"\n",
    "arbol3 = construir_arbol_notacion_polaca(expresion_polaca3)\n",
    "print(\"\\nResultado del ejemplo 3:\", end=\" \")\n",
    "imprimir_arbol(arbol3)\n",
    "\n"
   ]
  }
 ],
 "metadata": {
  "kernelspec": {
   "display_name": "Python 3",
   "language": "python",
   "name": "python3"
  },
  "language_info": {
   "codemirror_mode": {
    "name": "ipython",
    "version": 3
   },
   "file_extension": ".py",
   "mimetype": "text/x-python",
   "name": "python",
   "nbconvert_exporter": "python",
   "pygments_lexer": "ipython3",
   "version": "3.10.9"
  }
 },
 "nbformat": 4,
 "nbformat_minor": 2
}

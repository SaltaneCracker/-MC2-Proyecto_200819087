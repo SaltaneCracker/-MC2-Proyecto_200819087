{
 "cells": [
  {
   "cell_type": "code",
   "execution_count": 2,
   "metadata": {},
   "outputs": [
    {
     "name": "stdout",
     "output_type": "stream",
     "text": [
      "-0.5\n"
     ]
    }
   ],
   "source": [
    "def evaluate_polish_notation(expression):\n",
    "    # Creamos una pila para almacenar los números de la expresión\n",
    "    stack = []\n",
    "\n",
    "    # Separamos los elementos de la expresión utilizando el método split()\n",
    "    elements = expression.split()\n",
    "\n",
    "    # Iteramos sobre los elementos de la expresión\n",
    "    for element in elements:\n",
    "        # Si el elemento es un operando, lo añadimos a la pila\n",
    "        if element.isdigit():\n",
    "            stack.append(int(element))\n",
    "        else:\n",
    "            # Si el elemento es una operación, obtenemos los dos operandos\n",
    "            operand2 = stack.pop()\n",
    "            operand1 = stack.pop()\n",
    "\n",
    "            # Realizamos la operación correspondiente y guardamos el resultado en la pila\n",
    "            if element == \"+\":\n",
    "                result = operand1 + operand2\n",
    "            elif element == \"-\":\n",
    "                result = operand1 - operand2\n",
    "            elif element == \"*\":\n",
    "                result = operand1 * operand2\n",
    "            elif element == \"/\":\n",
    "                if operand2 != 0:\n",
    "                    result = operand1 / operand2\n",
    "                else:\n",
    "                    print(\"Error: división por cero\")\n",
    "                    return 0\n",
    "            elif element == \">\":\n",
    "                result = operand1 ** operand2\n",
    "            else:\n",
    "                print(\"Error: operación no válida\")\n",
    "                return 0\n",
    "            stack.append(result)\n",
    "\n",
    "    # Al final de la expresión, el resultado debe estar en el tope de la pila\n",
    "    if len(stack) == 1:\n",
    "        return stack.pop()\n",
    "    else:\n",
    "        print(\"Error: la expresión está incompleta\")\n",
    "        return 0\n",
    "\n",
    "print(evaluate_polish_notation(\"12 18 28 14 + - /\"))"
   ]
  }
 ],
 "metadata": {
  "kernelspec": {
   "display_name": "Python 3",
   "language": "python",
   "name": "python3"
  },
  "language_info": {
   "codemirror_mode": {
    "name": "ipython",
    "version": 3
   },
   "file_extension": ".py",
   "mimetype": "text/x-python",
   "name": "python",
   "nbconvert_exporter": "python",
   "pygments_lexer": "ipython3",
   "version": "3.10.9"
  }
 },
 "nbformat": 4,
 "nbformat_minor": 2
}
